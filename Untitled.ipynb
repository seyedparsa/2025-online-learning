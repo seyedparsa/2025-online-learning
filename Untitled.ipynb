{
 "cells": [
  {
   "cell_type": "code",
   "execution_count": 6,
   "metadata": {},
   "outputs": [
    {
     "data": {
      "text/plain": [
       "['../talks/ContextAlg/talk6.tex',\n",
       " '../talks/ContinExperts/talk5.tex',\n",
       " '../talks/Hedge/talk2.tex',\n",
       " '../talks/Introduction/talk1.tex',\n",
       " '../talks/MultipleArmBandit/talk11.tex',\n",
       " '../talks/RepeatedMatrix/talk12.tex',\n",
       " '../talks/Specialists/talk10.tex',\n",
       " '../talks/UniversalCodingBayes/talk3.tex',\n",
       " '../talks/mixable/talk7.tex',\n",
       " '../talks/tracking/talk8.tex']"
      ]
     },
     "execution_count": 6,
     "metadata": {},
     "output_type": "execute_result"
    }
   ],
   "source": [
    "list=!ls -1 ../talks/*/talk*.tex\n",
    "list"
   ]
  },
  {
   "cell_type": "code",
   "execution_count": 12,
   "metadata": {},
   "outputs": [
    {
     "name": "stdout",
     "output_type": "stream",
     "text": [
      "../talks/ContextAlg/talk6.tex ../talks/ContextAlg\n",
      "../talks/ContinExperts/talk5.tex ../talks/ContinExperts\n",
      "../talks/Hedge/talk2.tex ../talks/Hedge\n",
      "../talks/Introduction/talk1.tex ../talks/Introduction\n",
      "../talks/MultipleArmBandit/talk11.tex ../talks/MultipleArmBandit\n",
      "../talks/RepeatedMatrix/talk12.tex ../talks/RepeatedMatrix\n",
      "../talks/Specialists/talk10.tex ../talks/Specialists\n",
      "../talks/UniversalCodingBayes/talk3.tex ../talks/UniversalCodingBayes\n",
      "../talks/mixable/talk7.tex ../talks/mixable\n",
      "../talks/tracking/talk8.tex ../talks/tracking\n"
     ]
    }
   ],
   "source": [
    "for d in list:\n",
    "    loc=d.rfind('/talk')\n",
    "    stem=d[:loc]\n",
    "    print(d,stem)\n",
    "    !cp -rf $stem ."
   ]
  },
  {
   "cell_type": "code",
   "execution_count": null,
   "metadata": {},
   "outputs": [],
   "source": []
  }
 ],
 "metadata": {
  "kernelspec": {
   "display_name": "Python 3",
   "language": "python",
   "name": "python3"
  },
  "language_info": {
   "codemirror_mode": {
    "name": "ipython",
    "version": 3
   },
   "file_extension": ".py",
   "mimetype": "text/x-python",
   "name": "python",
   "nbconvert_exporter": "python",
   "pygments_lexer": "ipython3",
   "version": "3.7.4"
  }
 },
 "nbformat": 4,
 "nbformat_minor": 2
}
